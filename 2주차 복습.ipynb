{
 "cells": [
  {
   "cell_type": "code",
   "execution_count": null,
   "id": "e8b37425-4a31-406d-84b4-61f51f305b0d",
   "metadata": {},
   "outputs": [],
   "source": [
    "print('하기싫다');print('wooo')\n",
    "#;->자동 줄바꿈되어 출력."
   ]
  },
  {
   "cell_type": "code",
   "execution_count": null,
   "id": "045bedb8-8b79-4094-8b5f-cb06d55a8711",
   "metadata": {},
   "outputs": [],
   "source": [
    "print('하기싫다','wooo')\n",
    "#;->자동 한칸띄움"
   ]
  },
  {
   "cell_type": "code",
   "execution_count": null,
   "id": "0a2fdbcf-71ec-442d-8469-f0e485f0a582",
   "metadata": {},
   "outputs": [],
   "source": [
    "def show_message(msg,name='여러분'):\n",
    "    print(msg,name,'님')\n",
    "show_message(name='이찬수) #name은 따로 지정 안 하면 여러분인데,msg 값은 지정 안 되어있어서 오류난듯함."
   ]
  },
  {
   "cell_type": "code",
   "execution_count": null,
   "id": "404dbcc9-f132-42ce-96eb-f5b20acecfcb",
   "metadata": {},
   "outputs": [],
   "source": [
    "print('안녕','집에가고싶어',sep=',')#공백대신 출력값 구분\n",
    "print('안녕',end='!!''집에갈래') #출력값 마지막에 들어감..헐 키워드는 쉼표로 구분 안하네"
   ]
  },
  {
   "cell_type": "code",
   "execution_count": null,
   "id": "8591be43-c8a9-4e01-9c43-5e86357041d0",
   "metadata": {},
   "outputs": [],
   "source": [
    "def show_message():\n",
    "    print('hello')\n",
    "    return 'good bye'\n",
    "print('시작')\n",
    "show_message()\n",
    "result=show_message() #반환값 전달받으면 이용하기\n",
    "print (result)\n",
    "print('마침')"
   ]
  },
  {
   "cell_type": "code",
   "execution_count": 1,
   "id": "e2319449-85c1-4452-b71e-ab5c76e9adaf",
   "metadata": {},
   "outputs": [
    {
     "ename": "NameError",
     "evalue": "name 'get_radius' is not defined",
     "output_type": "error",
     "traceback": [
      "\u001b[0;31m---------------------------------------------------------------------------\u001b[0m",
      "\u001b[0;31mNameError\u001b[0m                                 Traceback (most recent call last)",
      "Cell \u001b[0;32mIn[1], line 5\u001b[0m\n\u001b[1;32m      2\u001b[0m     r\u001b[38;5;241m=\u001b[39m\u001b[38;5;28mint\u001b[39m(\u001b[38;5;28minput\u001b[39m(prompt))\n\u001b[1;32m      4\u001b[0m     \u001b[38;5;28;01mreturn\u001b[39;00m r\n\u001b[0;32m----> 5\u001b[0m result\u001b[38;5;241m=\u001b[39m\u001b[43mget_radius\u001b[49m(prompt)\n\u001b[1;32m      7\u001b[0m \u001b[38;5;28mprint\u001b[39m(\u001b[38;5;124m'\u001b[39m\u001b[38;5;124m원의 넓이는\u001b[39m\u001b[38;5;124m'\u001b[39m, result\u001b[38;5;241m*\u001b[39m\u001b[38;5;241m*\u001b[39m\u001b[38;5;241m2\u001b[39m\u001b[38;5;241m*\u001b[39m\u001b[38;5;241m3.14\u001b[39m)\n",
      "\u001b[0;31mNameError\u001b[0m: name 'get_radius' is not defined"
     ]
    }
   ],
   "source": [
    "def get_raius(prompt):\n",
    "    r=int(input(prompt))\n",
    "\n",
    "    return r\n",
    "result=get_radius(prompt)\n",
    "\n",
    "print('원의 넓이는', result**2*3.14)"
   ]
  },
  {
   "cell_type": "code",
   "execution_count": 3,
   "id": "e826074c-3343-4914-974f-8c4d019909ac",
   "metadata": {},
   "outputs": [
    {
     "name": "stdin",
     "output_type": "stream",
     "text": [
      "반지름은? 3\n"
     ]
    },
    {
     "name": "stdout",
     "output_type": "stream",
     "text": [
      "원의 넓이는 3*3*3.14 = 28.26\n"
     ]
    }
   ],
   "source": [
    "def get_radius(prompt):\n",
    "    r = int(input(prompt))\n",
    "    return r\n",
    "\n",
    "def get_circle_area(r):\n",
    "    area = r**2 * 3.14\n",
    "    return area\n",
    "\n",
    "result = get_radius('반지름은?')\n",
    "print(f'원의 넓이는 {result}*{result}*3.14 = {get_circle_area(result)}')"
   ]
  },
  {
   "cell_type": "code",
   "execution_count": null,
   "id": "fb36c67d-3a8e-479b-b828-382a0b6b3597",
   "metadata": {},
   "outputs": [],
   "source": []
  },
  {
   "cell_type": "code",
   "execution_count": null,
   "id": "2d27b0f4-2164-4425-8525-172ab9854661",
   "metadata": {},
   "outputs": [],
   "source": []
  },
  {
   "cell_type": "code",
   "execution_count": null,
   "id": "8a08a28a-29d1-49f2-84f5-f5ea775ae96b",
   "metadata": {},
   "outputs": [],
   "source": []
  }
 ],
 "metadata": {
  "kernelspec": {
   "display_name": "Python 3 (ipykernel)",
   "language": "python",
   "name": "python3"
  },
  "language_info": {
   "codemirror_mode": {
    "name": "ipython",
    "version": 3
   },
   "file_extension": ".py",
   "mimetype": "text/x-python",
   "name": "python",
   "nbconvert_exporter": "python",
   "pygments_lexer": "ipython3",
   "version": "3.12.1"
  }
 },
 "nbformat": 4,
 "nbformat_minor": 5
}
