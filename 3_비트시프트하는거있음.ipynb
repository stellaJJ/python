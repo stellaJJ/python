{
 "cells": [
  {
   "cell_type": "code",
   "execution_count": 4,
   "id": "cd891070-958e-433b-a4a5-8912b01f1847",
   "metadata": {},
   "outputs": [
    {
     "name": "stdin",
     "output_type": "stream",
     "text": [
      "피젯수를 정수로 입력하세요. 6\n",
      "젯수를 정수로 입력하세요: 4\n"
     ]
    },
    {
     "name": "stdout",
     "output_type": "stream",
     "text": [
      "몫= 1\n",
      "나머지= 2\n"
     ]
    }
   ],
   "source": [
    "def show_division(dividend, divisor):\n",
    "    quotient=dividend//divisor\n",
    "    remainder=dividend%divisor\n",
    "    print('몫=',quotient)\n",
    "    print('나머지=',remainder)\n",
    "\n",
    "n1=int(input('피젯수를 정수로 입력하세요.'))\n",
    "n2=int(input('젯수를 정수로 입력하세요:'))\n",
    "show_division(divisor=n2, dividend=n1)"
   ]
  },
  {
   "cell_type": "code",
   "execution_count": 8,
   "id": "bf6c4fe1-ab4c-46d0-b689-6de7b97ac203",
   "metadata": {},
   "outputs": [
    {
     "name": "stdin",
     "output_type": "stream",
     "text": [
      "구매한 물건의 총구매 금액은? 3000\n",
      "고객으로부터 지불받은 금액은? 5000\n"
     ]
    },
    {
     "name": "stdout",
     "output_type": "stream",
     "text": [
      "2000\n"
     ]
    }
   ],
   "source": [
    "#거스름돈계산인데1000원권과 5000원권만사용\n",
    "def show_change(amount):\n",
    "    print('잔돈:', amount,'원')\n",
    "    n5000=amount//5000\n",
    "    amount%=5000\n",
    "    n1000=amount//1000\n",
    "\n",
    "    print('>5000원권',n5000,'장')\n",
    "    print('>1000원권',n1000,'장')\n",
    "    \n",
    "\n",
    "total_cost=int(input('구매한 물건의 총구매 금액은?'))\n",
    "payment=int(input('고객으로부터 지불받은 금액은?'))\n",
    "change=payment-total_cost\n",
    "print(change)\n"
   ]
  },
  {
   "cell_type": "code",
   "execution_count": null,
   "id": "9e2bb900-a892-4017-944c-5105d141802d",
   "metadata": {},
   "outputs": [],
   "source": [
    "#화씨온도받아섭씨로변환-->jot that down 이거 모르겠다.\n",
    "def fahrenheit_to_celsius(F):\n",
    "    C=5/9*(F-32)\n",
    "    return C\n",
    "    \n",
    "def get_real(prompt):\n",
    "    res=float(input(prompt))\n",
    "    return res\n",
    "\n",
    "ftemp=get_real('변환하고자 하는 화씨온도?')\n",
    "ctemp=fahrenheit_to_celsius(ftemp)\n",
    "print('화씨',ftemp,'도는 섭씨',ctemp,'도')"
   ]
  },
  {
   "cell_type": "code",
   "execution_count": 10,
   "id": "0536c492-b83e-4600-9ade-2218d570b806",
   "metadata": {},
   "outputs": [
    {
     "name": "stdin",
     "output_type": "stream",
     "text": [
      "변환하고자 하는 시간(초)? 3600\n"
     ]
    },
    {
     "name": "stdout",
     "output_type": "stream",
     "text": [
      "3600 초는 1 시간 0 분 0 초\n"
     ]
    }
   ],
   "source": [
    "def convert_time(second):\n",
    "    h=second//3600\n",
    "    hs=second%3600\n",
    "    m=hs//60\n",
    "    s=hs%60\n",
    "    \n",
    "    print(second,'초는',h,'시간',m,'분',s,'초') \n",
    "          \n",
    "def get_integer(prompt):\n",
    "    res=int(input(prompt))\n",
    "    return res\n",
    "\n",
    "sec=get_integer('변환하고자 하는 시간(초)?')\n",
    "convert_time(sec)"
   ]
  },
  {
   "cell_type": "code",
   "execution_count": 11,
   "id": "95147587-0c6b-4f85-897d-05da823279bb",
   "metadata": {},
   "outputs": [
    {
     "name": "stdin",
     "output_type": "stream",
     "text": [
      "변환하고자 하는 시간(초)? 3800\n"
     ]
    },
    {
     "name": "stdout",
     "output_type": "stream",
     "text": [
      "3800 초는 1 시간 3 분 20 초\n"
     ]
    }
   ],
   "source": [
    "def convert_time(second):\n",
    "    h=second//3600\n",
    "    s=second%3600 #입력받은 초가 예를들어 3800초면 3600빼고 200초가 s가 됨\n",
    "    m=s//60 #200초가 몇분인지 나타냄\n",
    "    s=s%60 #200초를 분으로 바꾸면 3분하고도 20초 남으니까 그 남는 20초가 다시 s가 되는 것..\n",
    "    \n",
    "    \n",
    "    print(second,'초는',h,'시간',m,'분',s,'초') \n",
    "          \n",
    "def get_integer(prompt):\n",
    "    res=int(input(prompt))\n",
    "    return res\n",
    "\n",
    "sec=get_integer('변환하고자 하는 시간(초)?')\n",
    "convert_time(sec)"
   ]
  },
  {
   "cell_type": "code",
   "execution_count": 18,
   "id": "5dacff15-3105-40f3-87eb-4b2136c15b3e",
   "metadata": {},
   "outputs": [
    {
     "name": "stdin",
     "output_type": "stream",
     "text": [
      "설정할 비트 수는? 8\n"
     ]
    },
    {
     "name": "stdout",
     "output_type": "stream",
     "text": [
      "8 비트를 모두 1로 설정한 수는 0b111111111 이다\n"
     ]
    }
   ],
   "source": [
    "def set_all_bits(n): #근데이해가안됨ㅋ 왜 1<<n으로 하지 1만큼 왼쪽으로 시프트하라는거아님? \n",
    "    return (1<<n)-1   #애초에 8비트를 1로 설정하라는 건 1을 8개 만들라는 건가 아니 어쩌라고 미친..;;\n",
    "\n",
    "def get_integer(prompt):\n",
    "    res=int(input(prompt))\n",
    "    return res\n",
    "\n",
    "n=get_integer('설정할 비트 수는?')\n",
    "b=set_all_bits(n)\n",
    "print(n,'비트를 모두 1로 설정한 수는', bin(b),'이다')"
   ]
  },
  {
   "cell_type": "code",
   "execution_count": 40,
   "id": "26e041a6-ec49-469c-b4dc-2b6d88d70b46",
   "metadata": {},
   "outputs": [
    {
     "name": "stdin",
     "output_type": "stream",
     "text": [
      "동전으로 교환하고자 하는 금액은? 3400\n"
     ]
    },
    {
     "name": "stdout",
     "output_type": "stream",
     "text": [
      "500원 6 개\n",
      "100원 4 개\n",
      "50원 0 개\n",
      "10원 0 개\n"
     ]
    }
   ],
   "source": [
    "def get_integer(prompt): #동전교환\n",
    "    cost=int(input(prompt))\n",
    "    return cost\n",
    "    \n",
    "def exchange(amount):\n",
    "    n500=amount//500\n",
    "    amount%=500\n",
    "    n100=amount//100\n",
    "    amount%=100\n",
    "    n50=amount//50\n",
    "    amount%=50\n",
    "    n10=amount//10\n",
    "    amount%=10\n",
    "\n",
    "    print('500원',n500,'개')\n",
    "    print('100원',n100,'개')\n",
    "    print('50원',n50,'개')\n",
    "    print('10원',n10,'개')\n",
    "\n",
    "coin=get_integer('동전으로 교환하고자하는 금액?')  \n",
    "exchange(coin)\n"
   ]
  },
  {
   "cell_type": "code",
   "execution_count": null,
   "id": "2e272c94-bd95-4b3e-a2b5-51bf27a9a0fb",
   "metadata": {},
   "outputs": [],
   "source": []
  }
 ],
 "metadata": {
  "kernelspec": {
   "display_name": "Python 3 (ipykernel)",
   "language": "python",
   "name": "python3"
  },
  "language_info": {
   "codemirror_mode": {
    "name": "ipython",
    "version": 3
   },
   "file_extension": ".py",
   "mimetype": "text/x-python",
   "name": "python",
   "nbconvert_exporter": "python",
   "pygments_lexer": "ipython3",
   "version": "3.12.1"
  }
 },
 "nbformat": 4,
 "nbformat_minor": 5
}
