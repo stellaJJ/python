{
 "cells": [
  {
   "cell_type": "code",
   "execution_count": 1,
   "id": "932c5d62-12b6-4716-9b53-5545e8df0aaa",
   "metadata": {},
   "outputs": [
    {
     "name": "stdin",
     "output_type": "stream",
     "text": [
      "첫번째정수는? 1\n",
      "두번째정수는? 2\n"
     ]
    },
    {
     "name": "stdout",
     "output_type": "stream",
     "text": [
      "1은/는 2보다 큽니까?False\n"
     ]
    }
   ],
   "source": [
    "n1=int(input('첫번째정수는?'))\n",
    "n2=int(input('두번째정수는?'))\n",
    "print(f'{n1}은/는 {n2}보다 큽니까?{n1>n2}')"
   ]
  },
  {
   "cell_type": "code",
   "execution_count": 3,
   "id": "f3fb4435-8777-4a76-ac74-f79e85c585c3",
   "metadata": {},
   "outputs": [
    {
     "name": "stdin",
     "output_type": "stream",
     "text": [
      "당신의나이는? 4\n"
     ]
    },
    {
     "name": "stdout",
     "output_type": "stream",
     "text": [
      "4은(는) 유효한 나이인가? True\n",
      "4은(는) 유효한 나이가 아닌가? False\n",
      "4은(는) 유효한 나이인가? True\n"
     ]
    }
   ],
   "source": [
    "age=int(input('당신의나이는?'))\n",
    "res=age>=0 and age<=120\n",
    "print(f'{age}은(는) 유효한 나이인가? {res}')\n",
    "res=age<0 or age>120\n",
    "print(f'{age}은(는) 유효한 나이가 아닌가? {res}')\n",
    "print(f'{age}은(는) 유효한 나이인가? {not res}')"
   ]
  },
  {
   "cell_type": "code",
   "execution_count": 9,
   "id": "dc50f8e6-c541-4f78-8eb2-a97684722645",
   "metadata": {},
   "outputs": [
    {
     "name": "stdin",
     "output_type": "stream",
     "text": [
      "첫번째정수는? 4\n",
      "두번째정수는? 5\n"
     ]
    },
    {
     "name": "stdout",
     "output_type": "stream",
     "text": [
      "끝\n"
     ]
    }
   ],
   "source": [
    "n1=int(input('첫번째정수는?'))\n",
    "n2=int(input('두번째정수는?'))\n",
    "\n",
    "if n1>n2: print(f'{n1}은(는) {n2}보다 크다')\n",
    "\n",
    "if n1>n2:\n",
    "    print(f'{n1}은(는) {n2}보다 크다')\n",
    "if n1>n2:\n",
    "    print(f'{n1}은(는) {n2}보다 크다',end=' ')\n",
    "    print('크다')\n",
    "\n",
    "print('끝')"
   ]
  },
  {
   "cell_type": "code",
   "execution_count": 11,
   "id": "623a1e2f-74dc-4fd5-ad6a-ce2a8dde7948",
   "metadata": {},
   "outputs": [
    {
     "name": "stdin",
     "output_type": "stream",
     "text": [
      "첫번째정수는? 7\n",
      "두번째정수는? 2\n"
     ]
    },
    {
     "name": "stdout",
     "output_type": "stream",
     "text": [
      "7은(는) 2보다 크다\n",
      "끝\n"
     ]
    }
   ],
   "source": [
    "n1=int(input('첫번째정수는?'))\n",
    "n2=int(input('두번째정수는?'))\n",
    "\n",
    "if n1>n2: print(f'{n1}은(는) {n2}보다 크다')\n",
    "\n",
    "if n1<=n2:\n",
    "    print(f'{n1}은(는) {n2}보다 크지않다')\n",
    "\n",
    "print('끝')"
   ]
  },
  {
   "cell_type": "code",
   "execution_count": 16,
   "id": "6ea723fa-d7be-4beb-adaa-f20f589231b9",
   "metadata": {},
   "outputs": [
    {
     "name": "stdin",
     "output_type": "stream",
     "text": [
      "정수를 입력하세요 4\n"
     ]
    },
    {
     "name": "stdout",
     "output_type": "stream",
     "text": [
      "짝수\n"
     ]
    }
   ],
   "source": [
    "num=int(input('정수를 입력하세요'))\n",
    "if num%2==0:\n",
    "    print('짝수')\n",
    "else:\n",
    "    print('홀수')"
   ]
  },
  {
   "cell_type": "code",
   "execution_count": 21,
   "id": "d198394f-4d15-47b1-a3c2-569f665b27d0",
   "metadata": {},
   "outputs": [
    {
     "name": "stdin",
     "output_type": "stream",
     "text": [
      "정수를 입력하세요 5\n"
     ]
    },
    {
     "data": {
      "text/plain": [
       "False"
      ]
     },
     "execution_count": 21,
     "metadata": {},
     "output_type": "execute_result"
    }
   ],
   "source": [
    "num=int(input('정수를 입력하세요'))\n",
    "def is_even_number(n):\n",
    "    if n%2==0:\n",
    "        return True\n",
    "    else:\n",
    "        return False\n",
    "\n",
    "is_even_number(num) #짝수 판별함수\n",
    "        "
   ]
  },
  {
   "cell_type": "code",
   "execution_count": 35,
   "id": "077d2188-6a18-4af8-80a2-28372b520025",
   "metadata": {},
   "outputs": [
    {
     "name": "stdin",
     "output_type": "stream",
     "text": [
      "정수를 입력하세요 3\n"
     ]
    },
    {
     "name": "stdout",
     "output_type": "stream",
     "text": [
      "양수입니다. hoho\n"
     ]
    }
   ],
   "source": [
    "num=int(input('정수를 입력하세요'))\n",
    "if num==0:\n",
    "    print('0',end='')\n",
    "else:\n",
    "    if num>0:\n",
    "        print('양수',end='')\n",
    "    else:\n",
    "        print('음수',end='')\n",
    "print('입니다.') #end=''를 쓰니까 입니다랑 조건문 출력값이 줄바꿈이 안 되네?->앞서 나온 프린트 함수에 end 쓰면\n",
    "     #다음 프린트함수랑 줄바꿈이 안 되는 듯함."
   ]
  },
  {
   "cell_type": "code",
   "execution_count": 41,
   "id": "aee380d5-345b-4d3b-89e2-414ead754888",
   "metadata": {},
   "outputs": [
    {
     "name": "stdin",
     "output_type": "stream",
     "text": [
      "점수는? 90\n"
     ]
    },
    {
     "name": "stdout",
     "output_type": "stream",
     "text": [
      "90점이므로 학점은 A입니다.\n"
     ]
    }
   ],
   "source": [
    "score=int(input('점수는?'))\n",
    "def get_grade(s):\n",
    "    if s>=90:\n",
    "        return 'A'\n",
    "    elif s>=80: #elif쓰면 선행 조건이 아닌 게 전제되어있기 때문에 80<=s<=90이런 식으로 비교할 필요 없음\n",
    "        return 'B'\n",
    "    elif s>=70:\n",
    "        return 'C'\n",
    "    elif s>=60:\n",
    "        return 'D'\n",
    "    else:\n",
    "        return 'F'\n",
    "grade=get_grade(score)\n",
    "print(f'{score}점이므로 학점은 {grade}입니다.')"
   ]
  },
  {
   "cell_type": "code",
   "execution_count": 60,
   "id": "0ecc4608-6927-4d85-9750-d020a4828d9a",
   "metadata": {},
   "outputs": [
    {
     "name": "stdin",
     "output_type": "stream",
     "text": [
      "윤년 여부를 확인할 연도는? 1900\n"
     ]
    },
    {
     "name": "stdout",
     "output_type": "stream",
     "text": [
      "1900년은 평년입니다.\n"
     ]
    }
   ],
   "source": [
    "def is_leap_year(y):\n",
    "    if (y%4==0 and y%100!=0) or y%400==0:\n",
    "        return True\n",
    "    return False\n",
    "\n",
    "year=int(input('윤년 여부를 확인할 연도는?'))\n",
    "print(f'{year}년은', end=' ')\n",
    "if is_leap_year(year):\n",
    "    print('윤년입니다.')\n",
    "else:\n",
    "    print('평년입니다.')\n",
    "\n",
    "#마지막 조건문에서 윤년, 평년 출력할 때 어떻게 윤년여부 판별하는지 모르겠는데..... 앞에 if랑 elif그대로 받는건가\n"
   ]
  },
  {
   "cell_type": "code",
   "execution_count": 66,
   "id": "cdbbda6f-0286-46a3-89c4-fff6e7fec65d",
   "metadata": {},
   "outputs": [
    {
     "name": "stdin",
     "output_type": "stream",
     "text": [
      "연도? 2000\n",
      "월? 2\n"
     ]
    },
    {
     "name": "stdout",
     "output_type": "stream",
     "text": [
      "2000년 2월은 29일까지 있습니다.\n"
     ]
    }
   ],
   "source": [
    "def is_leap_year(y):\n",
    "    if (y%4==0 and y%100!=0) or y%400==0:\n",
    "        return True\n",
    "    return False\n",
    "\n",
    "def month_days(y,m):\n",
    "    if m==1 or m==3 or m==5 or m==7 or m==8 or m==10 or m==12:\n",
    "        return 31\n",
    "    elif m==2:\n",
    "        if is_leap_year(year):\n",
    "            return 29\n",
    "        else:\n",
    "            return 28\n",
    "    else:\n",
    "        return 30\n",
    "year=int(input('연도?'))\n",
    "month=int(input('월?'))\n",
    "ndays=month_days(year,month)\n",
    "print(f'{year}년 {month}월은 {ndays}일까지 있습니다.')\n",
    "          "
   ]
  },
  {
   "cell_type": "code",
   "execution_count": 75,
   "id": "2998ea75-b0ad-4746-bd14-2bfe0c1139e5",
   "metadata": {},
   "outputs": [
    {
     "name": "stdin",
     "output_type": "stream",
     "text": [
      "나이? -1\n"
     ]
    },
    {
     "name": "stdout",
     "output_type": "stream",
     "text": [
      "유효하지 않은 나이가 입력되어 판별할 수 없습니다.\n"
     ]
    }
   ],
   "source": [
    "def input_age(prompt):\n",
    "    a=int(input(prompt))\n",
    "    if 0<=a<=120:\n",
    "        return a\n",
    "\n",
    "    else:\n",
    "        return -1 #유효하지 않은 숫자 입력하면 -1을 반환해서 주프로그램부의 엘스문에 걸리도록 만든 것임.\n",
    "\n",
    "def is_adult(age):\n",
    "    if 19<=age:\n",
    "        return True\n",
    "    return False\n",
    "age=int(input('나이?'))\n",
    "if age>=0:\n",
    "    if is_adult(age):\n",
    "        print('성인입니다.')\n",
    "\n",
    "    else:\n",
    "        print('성인이아닙니다.')\n",
    "else:\n",
    "    print('유효하지 않은 나이가 입력되어 판별할 수 없습니다.')\n",
    "\n"
   ]
  },
  {
   "cell_type": "code",
   "execution_count": 84,
   "id": "dcb93580-e224-480b-8ebe-48a737f51552",
   "metadata": {},
   "outputs": [
    {
     "name": "stdin",
     "output_type": "stream",
     "text": [
      "한문자입력? +\n"
     ]
    },
    {
     "name": "stdout",
     "output_type": "stream",
     "text": [
      "기타문자를 입력했습니다.\n"
     ]
    }
   ],
   "source": [
    "def find_char_type(ch):\n",
    "    if 'a'<=ch<='z' or 'A'<=ch<='Z':\n",
    "        return '알파벳'\n",
    "    elif '0'<=ch<='9':\n",
    "        return '숫자'\n",
    "    elif ch=='':\n",
    "        return '공백'\n",
    "    else:\n",
    "        return '기타'\n",
    "\n",
    "c=input('한문자입력?')\n",
    "ctype=find_char_type(c)\n",
    "print(f'{ctype}문자를 입력했습니다.')"
   ]
  },
  {
   "cell_type": "code",
   "execution_count": null,
   "id": "20bec16c-45dc-407e-b576-547ae9ad2f90",
   "metadata": {},
   "outputs": [],
   "source": []
  }
 ],
 "metadata": {
  "kernelspec": {
   "display_name": "Python 3 (ipykernel)",
   "language": "python",
   "name": "python3"
  },
  "language_info": {
   "codemirror_mode": {
    "name": "ipython",
    "version": 3
   },
   "file_extension": ".py",
   "mimetype": "text/x-python",
   "name": "python",
   "nbconvert_exporter": "python",
   "pygments_lexer": "ipython3",
   "version": "3.12.1"
  }
 },
 "nbformat": 4,
 "nbformat_minor": 5
}
